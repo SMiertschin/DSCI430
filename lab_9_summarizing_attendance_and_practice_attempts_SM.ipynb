{
 "cells": [
  {
   "cell_type": "markdown",
   "metadata": {},
   "source": [
    "# Lab 8 - Summarizing Attendance and Practice Attempts\n",
    "\n",
    "In the last lab, you combined the information for attendance and practice quizzes into one combined table.  In this lab, you will transform these data into two summary tables.\n",
    "\n",
    "1. For each class, you will create a table that summarizes the attendance of all students in that class.\n",
    "2. For each class that has practice quizzes, you will create a table that summarized the number of attempts, overall and for each module."
   ]
  },
  {
   "cell_type": "markdown",
   "metadata": {},
   "source": [
    "## Tasks\n",
    "\n",
    "To complete this lab, complete each of the following tasks."
   ]
  },
  {
   "cell_type": "code",
   "execution_count": 1,
   "metadata": {},
   "outputs": [],
   "source": [
    "import pandas as pd\n",
    "from dfply import *"
   ]
  },
  {
   "cell_type": "code",
   "execution_count": 71,
   "metadata": {},
   "outputs": [],
   "source": [
    "all_data = pd.read_csv(\"./attendance_and_quiz_data_combined.csv\")"
   ]
  },
  {
   "cell_type": "code",
   "execution_count": 72,
   "metadata": {},
   "outputs": [],
   "source": [
    "all_data.columns = ['Unnamed_0', 'Org_Defined_ID', 'UserName', 'FirstName', 'LastName',\n",
    "       'Attempt_num', 'Score', 'Out_Of', 'Attempt_Start', 'Attempt_End',\n",
    "       'Percent', 'Course', 'Quiz_type', 'Module']"
   ]
  },
  {
   "cell_type": "markdown",
   "metadata": {},
   "source": [
    "#### Task 1 - Attendance Summary\n",
    "\n",
    "For each of the classes contained in `attendance_example.zip`, we want to create a table with three columns: `FirstName`, `LastName`, `Attendance`.  Note that `Attendance` will represent the maximum number of attempts on the quiz, which corresponds to that students number of days they have attended.  To complete this task, do the following.\n",
    "\n",
    "1. Write a helper function that takes a class identifier and the overall dataframe as arguments; and returns the table described above.\n",
    "2. Use a loop and your helper functions to create the attendance quiz table for each class and then write the contents to a csv file."
   ]
  },
  {
   "cell_type": "code",
   "execution_count": 73,
   "metadata": {},
   "outputs": [],
   "source": [
    "course_vals = ['dsci494s7', 'stat180s18', 'stat491s1']"
   ]
  },
  {
   "cell_type": "code",
   "execution_count": 74,
   "metadata": {},
   "outputs": [],
   "source": [
    "def get_attendance_table(df,identifier):\n",
    "    df2 = (df \n",
    "          >> filter_by(X.Course == identifier,\n",
    "                       X.Quiz_type == 'Attendance') \n",
    "          >> group_by(X.FirstName,X.LastName,X.UserName)\n",
    "          >> summarize(Attendance = colmax(X.Attempt_num)) \n",
    "          >> select(X.FirstName,X.LastName,X.Attendance)      \n",
    "         )\n",
    "    return df2"
   ]
  },
  {
   "cell_type": "code",
   "execution_count": 75,
   "metadata": {},
   "outputs": [],
   "source": [
    "for c in course_vals:\n",
    "    attend_table = get_attendance_table(all_data,c)\n",
    "    attend_table.to_csv('./attendance_{}.csv'.format(c), index=False)    "
   ]
  },
  {
   "cell_type": "markdown",
   "metadata": {},
   "source": [
    "#### Task 2 - Practice Quiz Summary\n",
    "\n",
    "Some of the classes contained in `attendance_example.zip` contain information about attempts on practice quizzes for four modules.  We want to create a table for each class that summarizes the practice quiz attempts.  This table should contain the following columns: `FirstName`, `LastName`, `Module 1`, `Module 2`, `Module 3`, `Module 4`, and `Total Attempts`.  Note that, for example, `Module 1` contains the total number of attempts each student made on the corresponding quiz and `Total Attempts` contains the total number of attempts on all four quizzes.\n",
    "\n",
    "\n",
    "1. Create a list of class that have practice quizzes.\n",
    "2. Write a helper function that takes a class identifier and the overall dataframe as arguments; and returns the table described above.\n",
    "3. Use a loop and your helper functions to create the practice quiz table for each class and then write the contents to a csv file."
   ]
  },
  {
   "cell_type": "code",
   "execution_count": 76,
   "metadata": {},
   "outputs": [],
   "source": [
    "quiz_courses = ['dsci494s7', 'stat491s1']"
   ]
  },
  {
   "cell_type": "code",
   "execution_count": 81,
   "metadata": {},
   "outputs": [],
   "source": [
    "def get_quiz_attempts(df,identifier):\n",
    "    df2 = (df \n",
    "              >> filter_by(X.Course == identifier,\n",
    "                           X.Quiz_type == 'Practice') \n",
    "              >> group_by(X.FirstName,X.LastName,X.Module)\n",
    "              >> summarize(Attempts = colmax(X.Attempt_num))\n",
    "              >> spread(X.Module,X.Attempts)\n",
    "              >> mutate(Total_attempts = X.Module_1+X.Module_2+X.Module_3+X.Module_4)\n",
    "          )\n",
    "    return df2"
   ]
  },
  {
   "cell_type": "code",
   "execution_count": 82,
   "metadata": {},
   "outputs": [],
   "source": [
    "for c in quiz_courses:\n",
    "    attempt_table = get_quiz_attempts(all_data,c)\n",
    "    attempt_table.to_csv('./quiz_attempts_{}.csv'.format(c), index=False)    "
   ]
  }
 ],
 "metadata": {
  "kernelspec": {
   "display_name": "Python 3",
   "language": "python",
   "name": "python3"
  },
  "language_info": {
   "codemirror_mode": {
    "name": "ipython",
    "version": 3
   },
   "file_extension": ".py",
   "mimetype": "text/x-python",
   "name": "python",
   "nbconvert_exporter": "python",
   "pygments_lexer": "ipython3",
   "version": "3.7.0"
  }
 },
 "nbformat": 4,
 "nbformat_minor": 2
}
