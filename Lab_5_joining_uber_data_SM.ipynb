{
 "cells": [
  {
   "cell_type": "markdown",
   "metadata": {},
   "source": [
    "# Lab 5 - Joining Uber Pick-Ups, Stations, and Boroughs\n",
    "\n",
    "In [Lecture 3.4](./3_4_joining_large_and_small_files.ipynb), we introduced using a Python `dict` to join a large and small table.  In this lab, we will practice this technique on the uber data set.\n",
    "\n",
    "**Note:** Make sure that you download and unzip the file `Uber-Jan-Feb-FOIL.csv` before proceeding."
   ]
  },
  {
   "cell_type": "code",
   "execution_count": 3,
   "metadata": {},
   "outputs": [],
   "source": [
    "import pandas as pd\n",
    "from dfply import *\n",
    "from toolz import first\n",
    "from calendar import day_name\n",
    "import numpy as np\n",
    "from functoolz import pipeable"
   ]
  },
  {
   "cell_type": "code",
   "execution_count": 2,
   "metadata": {},
   "outputs": [],
   "source": [
    "c_size = 500000\n",
    "trips = pd.read_csv(\"./data/uber/uber-trip-data/uber-raw-data-janjune-15.csv\", chunksize=c_size,parse_dates=['Pickup_date'])\n",
    "first_chunk = next(trips)"
   ]
  },
  {
   "cell_type": "code",
   "execution_count": 3,
   "metadata": {},
   "outputs": [
    {
     "data": {
      "text/html": [
       "<div>\n",
       "<style scoped>\n",
       "    .dataframe tbody tr th:only-of-type {\n",
       "        vertical-align: middle;\n",
       "    }\n",
       "\n",
       "    .dataframe tbody tr th {\n",
       "        vertical-align: top;\n",
       "    }\n",
       "\n",
       "    .dataframe thead th {\n",
       "        text-align: right;\n",
       "    }\n",
       "</style>\n",
       "<table border=\"1\" class=\"dataframe\">\n",
       "  <thead>\n",
       "    <tr style=\"text-align: right;\">\n",
       "      <th></th>\n",
       "      <th>Dispatching_base_num</th>\n",
       "      <th>Pickup_date</th>\n",
       "      <th>Affiliated_base_num</th>\n",
       "      <th>locationID</th>\n",
       "    </tr>\n",
       "  </thead>\n",
       "  <tbody>\n",
       "    <tr>\n",
       "      <th>0</th>\n",
       "      <td>B02617</td>\n",
       "      <td>2015-05-17 09:47:00</td>\n",
       "      <td>B02617</td>\n",
       "      <td>141</td>\n",
       "    </tr>\n",
       "    <tr>\n",
       "      <th>1</th>\n",
       "      <td>B02617</td>\n",
       "      <td>2015-05-17 09:47:00</td>\n",
       "      <td>B02617</td>\n",
       "      <td>65</td>\n",
       "    </tr>\n",
       "    <tr>\n",
       "      <th>2</th>\n",
       "      <td>B02617</td>\n",
       "      <td>2015-05-17 09:47:00</td>\n",
       "      <td>B02617</td>\n",
       "      <td>100</td>\n",
       "    </tr>\n",
       "    <tr>\n",
       "      <th>3</th>\n",
       "      <td>B02617</td>\n",
       "      <td>2015-05-17 09:47:00</td>\n",
       "      <td>B02774</td>\n",
       "      <td>80</td>\n",
       "    </tr>\n",
       "    <tr>\n",
       "      <th>4</th>\n",
       "      <td>B02617</td>\n",
       "      <td>2015-05-17 09:47:00</td>\n",
       "      <td>B02617</td>\n",
       "      <td>90</td>\n",
       "    </tr>\n",
       "  </tbody>\n",
       "</table>\n",
       "</div>"
      ],
      "text/plain": [
       "  Dispatching_base_num         Pickup_date Affiliated_base_num  locationID\n",
       "0               B02617 2015-05-17 09:47:00              B02617         141\n",
       "1               B02617 2015-05-17 09:47:00              B02617          65\n",
       "2               B02617 2015-05-17 09:47:00              B02617         100\n",
       "3               B02617 2015-05-17 09:47:00              B02774          80\n",
       "4               B02617 2015-05-17 09:47:00              B02617          90"
      ]
     },
     "execution_count": 3,
     "metadata": {},
     "output_type": "execute_result"
    }
   ],
   "source": [
    "first_chunk.head()"
   ]
  },
  {
   "cell_type": "markdown",
   "metadata": {},
   "source": [
    "## <font color=\"red\"> Problem 1 - Creating 2 Location `dict`</font>\n",
    "\n",
    "Read the file `taxi-zone-lookup.csv` and inspect the columns. What 2 pieces of information will this file allow us to add to the `uber-raw-data-janjune-15.csv`?  Make a `dict` for each of these variables."
   ]
  },
  {
   "cell_type": "markdown",
   "metadata": {},
   "source": [
    "This file allows us to add the Borough and Zone based on the LocationID."
   ]
  },
  {
   "cell_type": "code",
   "execution_count": 4,
   "metadata": {},
   "outputs": [
    {
     "data": {
      "text/html": [
       "<div>\n",
       "<style scoped>\n",
       "    .dataframe tbody tr th:only-of-type {\n",
       "        vertical-align: middle;\n",
       "    }\n",
       "\n",
       "    .dataframe tbody tr th {\n",
       "        vertical-align: top;\n",
       "    }\n",
       "\n",
       "    .dataframe thead th {\n",
       "        text-align: right;\n",
       "    }\n",
       "</style>\n",
       "<table border=\"1\" class=\"dataframe\">\n",
       "  <thead>\n",
       "    <tr style=\"text-align: right;\">\n",
       "      <th></th>\n",
       "      <th>LocationID</th>\n",
       "      <th>Borough</th>\n",
       "      <th>Zone</th>\n",
       "    </tr>\n",
       "  </thead>\n",
       "  <tbody>\n",
       "    <tr>\n",
       "      <th>0</th>\n",
       "      <td>1</td>\n",
       "      <td>EWR</td>\n",
       "      <td>Newark Airport</td>\n",
       "    </tr>\n",
       "    <tr>\n",
       "      <th>1</th>\n",
       "      <td>2</td>\n",
       "      <td>Queens</td>\n",
       "      <td>Jamaica Bay</td>\n",
       "    </tr>\n",
       "    <tr>\n",
       "      <th>2</th>\n",
       "      <td>3</td>\n",
       "      <td>Bronx</td>\n",
       "      <td>Allerton/Pelham Gardens</td>\n",
       "    </tr>\n",
       "    <tr>\n",
       "      <th>3</th>\n",
       "      <td>4</td>\n",
       "      <td>Manhattan</td>\n",
       "      <td>Alphabet City</td>\n",
       "    </tr>\n",
       "    <tr>\n",
       "      <th>4</th>\n",
       "      <td>5</td>\n",
       "      <td>Staten Island</td>\n",
       "      <td>Arden Heights</td>\n",
       "    </tr>\n",
       "  </tbody>\n",
       "</table>\n",
       "</div>"
      ],
      "text/plain": [
       "   LocationID        Borough                     Zone\n",
       "0           1            EWR           Newark Airport\n",
       "1           2         Queens              Jamaica Bay\n",
       "2           3          Bronx  Allerton/Pelham Gardens\n",
       "3           4      Manhattan            Alphabet City\n",
       "4           5  Staten Island            Arden Heights"
      ]
     },
     "execution_count": 4,
     "metadata": {},
     "output_type": "execute_result"
    }
   ],
   "source": [
    "taxi_zone_lookup = pd.read_csv(\"./data/uber/uber-trip-data/taxi-zone-lookup.csv\")\n",
    "taxi_zone_lookup.head()"
   ]
  },
  {
   "cell_type": "code",
   "execution_count": 5,
   "metadata": {},
   "outputs": [],
   "source": [
    "bor_dict = {id_:bor for id_,bor in zip(taxi_zone_lookup.LocationID,taxi_zone_lookup.Borough)}"
   ]
  },
  {
   "cell_type": "code",
   "execution_count": 6,
   "metadata": {},
   "outputs": [],
   "source": [
    "zone_dict = {id_:zone for id_,zone in zip(taxi_zone_lookup.LocationID,taxi_zone_lookup.Zone)}"
   ]
  },
  {
   "cell_type": "markdown",
   "metadata": {},
   "source": [
    "## <font color=\"red\"> Problem 2 - Dispatch Translation</font>\n",
    "\n",
    "The following table was taken from the FiveThirtyEight github page and contains the names of each Uber dispatch station.  Create a translation `dict` for these data.\n",
    "\n",
    "Base Code | Base Name\n",
    "---|---------\n",
    "B02512 | Unter\n",
    "B02598 | Hinter\n",
    "B02617 | Weiter\n",
    "B02682 | Schmecken\n",
    "B02764 | Danach-NY\n",
    "B02765 | Grun\n",
    "B02835 | Dreist\n",
    "B02836 | Drinnen"
   ]
  },
  {
   "cell_type": "code",
   "execution_count": 7,
   "metadata": {},
   "outputs": [],
   "source": [
    "base_dict = {'B02512':'Unter',\n",
    "            'B02598':'Hinter',\n",
    "            'B02617':'Weiter',\n",
    "            'B02682':'Schmecken',\n",
    "            'B02764':'Danach-NY',\n",
    "            'B02765':'Grun',\n",
    "            'B02835':'Dreist',\n",
    "            'B02836':'Drinnen',}"
   ]
  },
  {
   "cell_type": "markdown",
   "metadata": {},
   "source": [
    "## <font color=\"red\"> Problem 3 - Prototyping a Helper Function</font>\n",
    "\n",
    "Use the first chunk to prototype a helper function that\n",
    "\n",
    "1. Add four new columns, one for each key/translation.\n",
    "2. Drop each of the associated keys.\n",
    "3. Convert the `pickup_date` to a datetime column.\n",
    "4. Add various datepart columns\n",
    "\n",
    "This function should use appropriate `dfply` functions and a pipe."
   ]
  },
  {
   "cell_type": "code",
   "execution_count": 8,
   "metadata": {},
   "outputs": [],
   "source": [
    "def to_datetime(series, infer_datetime_format=True):\n",
    "    return pd.to_datetime(series, infer_datetime_format=infer_datetime_format)"
   ]
  },
  {
   "cell_type": "code",
   "execution_count": 9,
   "metadata": {},
   "outputs": [
    {
     "data": {
      "text/html": [
       "<div>\n",
       "<style scoped>\n",
       "    .dataframe tbody tr th:only-of-type {\n",
       "        vertical-align: middle;\n",
       "    }\n",
       "\n",
       "    .dataframe tbody tr th {\n",
       "        vertical-align: top;\n",
       "    }\n",
       "\n",
       "    .dataframe thead th {\n",
       "        text-align: right;\n",
       "    }\n",
       "</style>\n",
       "<table border=\"1\" class=\"dataframe\">\n",
       "  <thead>\n",
       "    <tr style=\"text-align: right;\">\n",
       "      <th></th>\n",
       "      <th>Pickup_date</th>\n",
       "      <th>borough</th>\n",
       "      <th>zone</th>\n",
       "      <th>dispatching_base</th>\n",
       "      <th>affiliated_base</th>\n",
       "      <th>weekday</th>\n",
       "      <th>weekofyear</th>\n",
       "      <th>dayofyear</th>\n",
       "      <th>year</th>\n",
       "      <th>month</th>\n",
       "      <th>day</th>\n",
       "      <th>hour</th>\n",
       "    </tr>\n",
       "  </thead>\n",
       "  <tbody>\n",
       "    <tr>\n",
       "      <th>0</th>\n",
       "      <td>2015-05-17 09:47:00</td>\n",
       "      <td>Manhattan</td>\n",
       "      <td>Lenox Hill West</td>\n",
       "      <td>Weiter</td>\n",
       "      <td>Weiter</td>\n",
       "      <td>Sunday</td>\n",
       "      <td>20</td>\n",
       "      <td>137</td>\n",
       "      <td>2015</td>\n",
       "      <td>May</td>\n",
       "      <td>17</td>\n",
       "      <td>9</td>\n",
       "    </tr>\n",
       "    <tr>\n",
       "      <th>1</th>\n",
       "      <td>2015-05-17 09:47:00</td>\n",
       "      <td>Brooklyn</td>\n",
       "      <td>Downtown Brooklyn/MetroTech</td>\n",
       "      <td>Weiter</td>\n",
       "      <td>Weiter</td>\n",
       "      <td>Sunday</td>\n",
       "      <td>20</td>\n",
       "      <td>137</td>\n",
       "      <td>2015</td>\n",
       "      <td>May</td>\n",
       "      <td>17</td>\n",
       "      <td>9</td>\n",
       "    </tr>\n",
       "    <tr>\n",
       "      <th>2</th>\n",
       "      <td>2015-05-17 09:47:00</td>\n",
       "      <td>Manhattan</td>\n",
       "      <td>Garment District</td>\n",
       "      <td>Weiter</td>\n",
       "      <td>Weiter</td>\n",
       "      <td>Sunday</td>\n",
       "      <td>20</td>\n",
       "      <td>137</td>\n",
       "      <td>2015</td>\n",
       "      <td>May</td>\n",
       "      <td>17</td>\n",
       "      <td>9</td>\n",
       "    </tr>\n",
       "    <tr>\n",
       "      <th>3</th>\n",
       "      <td>2015-05-17 09:47:00</td>\n",
       "      <td>Brooklyn</td>\n",
       "      <td>East Williamsburg</td>\n",
       "      <td>Weiter</td>\n",
       "      <td>NaN</td>\n",
       "      <td>Sunday</td>\n",
       "      <td>20</td>\n",
       "      <td>137</td>\n",
       "      <td>2015</td>\n",
       "      <td>May</td>\n",
       "      <td>17</td>\n",
       "      <td>9</td>\n",
       "    </tr>\n",
       "    <tr>\n",
       "      <th>4</th>\n",
       "      <td>2015-05-17 09:47:00</td>\n",
       "      <td>Manhattan</td>\n",
       "      <td>Flatiron</td>\n",
       "      <td>Weiter</td>\n",
       "      <td>Weiter</td>\n",
       "      <td>Sunday</td>\n",
       "      <td>20</td>\n",
       "      <td>137</td>\n",
       "      <td>2015</td>\n",
       "      <td>May</td>\n",
       "      <td>17</td>\n",
       "      <td>9</td>\n",
       "    </tr>\n",
       "  </tbody>\n",
       "</table>\n",
       "</div>"
      ],
      "text/plain": [
       "          Pickup_date    borough                         zone  \\\n",
       "0 2015-05-17 09:47:00  Manhattan              Lenox Hill West   \n",
       "1 2015-05-17 09:47:00   Brooklyn  Downtown Brooklyn/MetroTech   \n",
       "2 2015-05-17 09:47:00  Manhattan             Garment District   \n",
       "3 2015-05-17 09:47:00   Brooklyn            East Williamsburg   \n",
       "4 2015-05-17 09:47:00  Manhattan                     Flatiron   \n",
       "\n",
       "  dispatching_base affiliated_base weekday  weekofyear  dayofyear  year month  \\\n",
       "0           Weiter          Weiter  Sunday          20        137  2015   May   \n",
       "1           Weiter          Weiter  Sunday          20        137  2015   May   \n",
       "2           Weiter          Weiter  Sunday          20        137  2015   May   \n",
       "3           Weiter             NaN  Sunday          20        137  2015   May   \n",
       "4           Weiter          Weiter  Sunday          20        137  2015   May   \n",
       "\n",
       "   day  hour  \n",
       "0   17     9  \n",
       "1   17     9  \n",
       "2   17     9  \n",
       "3   17     9  \n",
       "4   17     9  "
      ]
     },
     "execution_count": 9,
     "metadata": {},
     "output_type": "execute_result"
    }
   ],
   "source": [
    "first_chunk.Pickup_date = to_datetime(first_chunk.Pickup_date)\n",
    "first_chunk_clean = (first_chunk >>\n",
    "                    mutate(borough = X.locationID.map(bor_dict),\n",
    "                          zone = X.locationID.map(zone_dict),\n",
    "                          dispatching_base = X.Dispatching_base_num.map(base_dict),\n",
    "                          affiliated_base = X.Affiliated_base_num.map(base_dict),\n",
    "                          weekday = X.Pickup_date.dt.weekday_name,\n",
    "                          weekofyear = X.Pickup_date.dt.weekofyear,\n",
    "                          dayofyear = X.Pickup_date.dt.dayofyear,\n",
    "                          year = X.Pickup_date.dt.year,\n",
    "                          month = X.Pickup_date.dt.month_name(),\n",
    "                          day = X.Pickup_date.dt.day,\n",
    "                          hour = X.Pickup_date.dt.hour\n",
    "                          ) >>\n",
    "                    drop(X.locationID,X.Dispatching_base_num,X.Affiliated_base_num)\n",
    "                    )\n",
    "first_chunk_clean.head()"
   ]
  },
  {
   "cell_type": "code",
   "execution_count": 10,
   "metadata": {},
   "outputs": [],
   "source": [
    "uber_clean_func = pipeable(lambda df: (df >>\n",
    "                                     mutate(borough = X.locationID.map(bor_dict),\n",
    "                                          zone = X.locationID.map(zone_dict),\n",
    "                                          dispatching_base = X.Dispatching_base_num.map(base_dict),\n",
    "                                          affiliated_base = X.Affiliated_base_num.map(base_dict),\n",
    "                                          weekday = X.Pickup_date.dt.weekday_name,\n",
    "                                          weekofyear = X.Pickup_date.dt.weekofyear,\n",
    "                                          dayofyear = X.Pickup_date.dt.dayofyear,\n",
    "                                          year = X.Pickup_date.dt.year,\n",
    "                                          month = X.Pickup_date.dt.month_name(),\n",
    "                                          day = X.Pickup_date.dt.day,\n",
    "                                          hour = X.Pickup_date.dt.hour\n",
    "                                          ) >>\n",
    "                                    drop(X.locationID,X.Dispatching_base_num,X.Affiliated_base_num)))"
   ]
  },
  {
   "cell_type": "code",
   "execution_count": 11,
   "metadata": {},
   "outputs": [
    {
     "data": {
      "text/html": [
       "<div>\n",
       "<style scoped>\n",
       "    .dataframe tbody tr th:only-of-type {\n",
       "        vertical-align: middle;\n",
       "    }\n",
       "\n",
       "    .dataframe tbody tr th {\n",
       "        vertical-align: top;\n",
       "    }\n",
       "\n",
       "    .dataframe thead th {\n",
       "        text-align: right;\n",
       "    }\n",
       "</style>\n",
       "<table border=\"1\" class=\"dataframe\">\n",
       "  <thead>\n",
       "    <tr style=\"text-align: right;\">\n",
       "      <th></th>\n",
       "      <th>Pickup_date</th>\n",
       "      <th>borough</th>\n",
       "      <th>zone</th>\n",
       "      <th>dispatching_base</th>\n",
       "      <th>affiliated_base</th>\n",
       "      <th>weekday</th>\n",
       "      <th>weekofyear</th>\n",
       "      <th>dayofyear</th>\n",
       "      <th>year</th>\n",
       "      <th>month</th>\n",
       "      <th>day</th>\n",
       "      <th>hour</th>\n",
       "    </tr>\n",
       "  </thead>\n",
       "  <tbody>\n",
       "    <tr>\n",
       "      <th>0</th>\n",
       "      <td>2015-05-17 09:47:00</td>\n",
       "      <td>Manhattan</td>\n",
       "      <td>Lenox Hill West</td>\n",
       "      <td>Weiter</td>\n",
       "      <td>Weiter</td>\n",
       "      <td>Sunday</td>\n",
       "      <td>20</td>\n",
       "      <td>137</td>\n",
       "      <td>2015</td>\n",
       "      <td>May</td>\n",
       "      <td>17</td>\n",
       "      <td>9</td>\n",
       "    </tr>\n",
       "    <tr>\n",
       "      <th>1</th>\n",
       "      <td>2015-05-17 09:47:00</td>\n",
       "      <td>Brooklyn</td>\n",
       "      <td>Downtown Brooklyn/MetroTech</td>\n",
       "      <td>Weiter</td>\n",
       "      <td>Weiter</td>\n",
       "      <td>Sunday</td>\n",
       "      <td>20</td>\n",
       "      <td>137</td>\n",
       "      <td>2015</td>\n",
       "      <td>May</td>\n",
       "      <td>17</td>\n",
       "      <td>9</td>\n",
       "    </tr>\n",
       "    <tr>\n",
       "      <th>2</th>\n",
       "      <td>2015-05-17 09:47:00</td>\n",
       "      <td>Manhattan</td>\n",
       "      <td>Garment District</td>\n",
       "      <td>Weiter</td>\n",
       "      <td>Weiter</td>\n",
       "      <td>Sunday</td>\n",
       "      <td>20</td>\n",
       "      <td>137</td>\n",
       "      <td>2015</td>\n",
       "      <td>May</td>\n",
       "      <td>17</td>\n",
       "      <td>9</td>\n",
       "    </tr>\n",
       "    <tr>\n",
       "      <th>3</th>\n",
       "      <td>2015-05-17 09:47:00</td>\n",
       "      <td>Brooklyn</td>\n",
       "      <td>East Williamsburg</td>\n",
       "      <td>Weiter</td>\n",
       "      <td>NaN</td>\n",
       "      <td>Sunday</td>\n",
       "      <td>20</td>\n",
       "      <td>137</td>\n",
       "      <td>2015</td>\n",
       "      <td>May</td>\n",
       "      <td>17</td>\n",
       "      <td>9</td>\n",
       "    </tr>\n",
       "    <tr>\n",
       "      <th>4</th>\n",
       "      <td>2015-05-17 09:47:00</td>\n",
       "      <td>Manhattan</td>\n",
       "      <td>Flatiron</td>\n",
       "      <td>Weiter</td>\n",
       "      <td>Weiter</td>\n",
       "      <td>Sunday</td>\n",
       "      <td>20</td>\n",
       "      <td>137</td>\n",
       "      <td>2015</td>\n",
       "      <td>May</td>\n",
       "      <td>17</td>\n",
       "      <td>9</td>\n",
       "    </tr>\n",
       "  </tbody>\n",
       "</table>\n",
       "</div>"
      ],
      "text/plain": [
       "          Pickup_date    borough                         zone  \\\n",
       "0 2015-05-17 09:47:00  Manhattan              Lenox Hill West   \n",
       "1 2015-05-17 09:47:00   Brooklyn  Downtown Brooklyn/MetroTech   \n",
       "2 2015-05-17 09:47:00  Manhattan             Garment District   \n",
       "3 2015-05-17 09:47:00   Brooklyn            East Williamsburg   \n",
       "4 2015-05-17 09:47:00  Manhattan                     Flatiron   \n",
       "\n",
       "  dispatching_base affiliated_base weekday  weekofyear  dayofyear  year month  \\\n",
       "0           Weiter          Weiter  Sunday          20        137  2015   May   \n",
       "1           Weiter          Weiter  Sunday          20        137  2015   May   \n",
       "2           Weiter          Weiter  Sunday          20        137  2015   May   \n",
       "3           Weiter             NaN  Sunday          20        137  2015   May   \n",
       "4           Weiter          Weiter  Sunday          20        137  2015   May   \n",
       "\n",
       "   day  hour  \n",
       "0   17     9  \n",
       "1   17     9  \n",
       "2   17     9  \n",
       "3   17     9  \n",
       "4   17     9  "
      ]
     },
     "execution_count": 11,
     "metadata": {},
     "output_type": "execute_result"
    }
   ],
   "source": [
    "first_chunk_c = uber_clean_func(first_chunk)\n",
    "first_chunk_c.head()"
   ]
  },
  {
   "cell_type": "markdown",
   "metadata": {},
   "source": [
    "## <font color=\"red\"> Problem 4 - Creating a SQL database</font>\n",
    "\n",
    "Use `pandas` and your helper function to create a `sqlite` database for this file."
   ]
  },
  {
   "cell_type": "code",
   "execution_count": 12,
   "metadata": {},
   "outputs": [],
   "source": [
    "add_primary_key = pipeable(lambda start, df: (df\n",
    "                                              >> mutate(id = np.arange(start, start + len(df))\n",
    "                                              )))\n",
    "process_chunk = pipeable(lambda i, df, chunksize=c_size: df >> uber_clean_func >> add_primary_key(i*c_size))"
   ]
  },
  {
   "cell_type": "code",
   "execution_count": 13,
   "metadata": {},
   "outputs": [
    {
     "data": {
      "text/plain": [
       "{'Pickup_date': sqlalchemy.sql.sqltypes.DateTime,\n",
       " 'borough': sqlalchemy.sql.sqltypes.String,\n",
       " 'zone': sqlalchemy.sql.sqltypes.String,\n",
       " 'dispatching_base': sqlalchemy.sql.sqltypes.String,\n",
       " 'affiliated_base': sqlalchemy.sql.sqltypes.String,\n",
       " 'weekday': sqlalchemy.sql.sqltypes.String,\n",
       " 'weekofyear': sqlalchemy.sql.sqltypes.Integer,\n",
       " 'dayofyear': sqlalchemy.sql.sqltypes.Integer,\n",
       " 'year': sqlalchemy.sql.sqltypes.Integer,\n",
       " 'month': sqlalchemy.sql.sqltypes.String,\n",
       " 'day': sqlalchemy.sql.sqltypes.Integer,\n",
       " 'hour': sqlalchemy.sql.sqltypes.Integer,\n",
       " 'id': sqlalchemy.sql.sqltypes.Integer}"
      ]
     },
     "execution_count": 13,
     "metadata": {},
     "output_type": "execute_result"
    }
   ],
   "source": [
    "from more_sqlalchemy import get_sql_types\n",
    "i=0\n",
    "complete_first_chunk = first_chunk >> uber_clean_func >> add_primary_key(i)\n",
    "sql_types = get_sql_types(complete_first_chunk)\n",
    "sql_types"
   ]
  },
  {
   "cell_type": "code",
   "execution_count": 16,
   "metadata": {},
   "outputs": [],
   "source": [
    "from sqlalchemy import create_engine\n",
    "engine = create_engine('sqlite:///databases/uber_lab_5.db', echo=False)"
   ]
  },
  {
   "cell_type": "code",
   "execution_count": 17,
   "metadata": {},
   "outputs": [
    {
     "name": "stdout",
     "output_type": "stream",
     "text": [
      "\n",
      "CREATE TABLE uber_lab_5 (\n",
      "\t\"Pickup_date\" DATETIME, \n",
      "\tborough VARCHAR, \n",
      "\tzone VARCHAR, \n",
      "\tdispatching_base VARCHAR, \n",
      "\taffiliated_base VARCHAR, \n",
      "\tweekday VARCHAR, \n",
      "\tweekofyear INTEGER, \n",
      "\tdayofyear INTEGER, \n",
      "\tyear INTEGER, \n",
      "\tmonth VARCHAR, \n",
      "\tday INTEGER, \n",
      "\thour INTEGER, \n",
      "\tid INTEGER NOT NULL, \n",
      "\tCONSTRAINT uber_lab_5_pk PRIMARY KEY (id)\n",
      ")\n",
      "\n",
      "\n"
     ]
    },
    {
     "data": {
      "text/plain": [
       "<sqlalchemy.engine.result.ResultProxy at 0x7fe4ff9ceda0>"
      ]
     },
     "execution_count": 17,
     "metadata": {},
     "output_type": "execute_result"
    }
   ],
   "source": [
    "schema = pd.io.sql.get_schema(complete_first_chunk, # dataframe\n",
    "                              'uber_lab_5', # name in SQL db\n",
    "                              keys='id', # primary key\n",
    "                              con=engine, # connection\n",
    "                              dtype=sql_types # SQL types\n",
    ")\n",
    "print(schema)\n",
    "engine.execute(schema)"
   ]
  },
  {
   "cell_type": "code",
   "execution_count": 25,
   "metadata": {},
   "outputs": [],
   "source": [
    "c_size = 500000\n",
    "df_iter = enumerate(pd.read_csv(\"./data/uber/uber-trip-data/uber-raw-data-janjune-15.csv\", \n",
    "                                header=0,\n",
    "                                parse_dates=['Pickup_date'],\n",
    "                                chunksize=c_size,\n",
    "                                sep=',',\n",
    "                                engine='python'))"
   ]
  },
  {
   "cell_type": "code",
   "execution_count": 26,
   "metadata": {},
   "outputs": [
    {
     "name": "stdout",
     "output_type": "stream",
     "text": [
      "writing chunk 0\n",
      "writing chunk 1\n",
      "writing chunk 2\n",
      "writing chunk 3\n",
      "writing chunk 4\n",
      "writing chunk 5\n",
      "writing chunk 6\n",
      "writing chunk 7\n",
      "writing chunk 8\n",
      "writing chunk 9\n",
      "writing chunk 10\n",
      "writing chunk 11\n",
      "writing chunk 12\n",
      "writing chunk 13\n",
      "writing chunk 14\n",
      "writing chunk 15\n",
      "writing chunk 16\n",
      "writing chunk 17\n",
      "writing chunk 18\n",
      "writing chunk 19\n",
      "writing chunk 20\n",
      "writing chunk 21\n",
      "writing chunk 22\n",
      "writing chunk 23\n",
      "writing chunk 24\n",
      "writing chunk 25\n",
      "writing chunk 26\n",
      "writing chunk 27\n",
      "writing chunk 28\n"
     ]
    }
   ],
   "source": [
    "for i, chunk in df_iter:\n",
    "    processed_chunk = chunk >> process_chunk(i)\n",
    "    print('writing chunk {0}'.format(i))\n",
    "    processed_chunk.to_sql('uber_lab_5', \n",
    "                           con=engine, \n",
    "                           dtype=sql_types, \n",
    "                           index=False,\n",
    "                           if_exists='append')"
   ]
  },
  {
   "cell_type": "markdown",
   "metadata": {},
   "source": [
    "## <font color=\"red\"> Problem 5 - Exploring the pickups</font>\n",
    "\n",
    "**Question of Interest:** I am interested in difference between pick-ups in terms of both time and Borough.  Use aggregation and visualizations to construct a group that illustrates an interesting difference between the Boroughs."
   ]
  },
  {
   "cell_type": "code",
   "execution_count": 4,
   "metadata": {},
   "outputs": [],
   "source": [
    "from sqlalchemy import create_engine\n",
    "from sqlalchemy.ext.automap import automap_base\n",
    "engine2 = create_engine('sqlite:///databases/uber_lab_5.db')\n",
    "Base = automap_base()\n",
    "Base.prepare(engine2, reflect=True)\n",
    "Uber = Base.classes.uber_lab_5"
   ]
  },
  {
   "cell_type": "code",
   "execution_count": 5,
   "metadata": {},
   "outputs": [
    {
     "data": {
      "text/html": [
       "<div>\n",
       "<style scoped>\n",
       "    .dataframe tbody tr th:only-of-type {\n",
       "        vertical-align: middle;\n",
       "    }\n",
       "\n",
       "    .dataframe tbody tr th {\n",
       "        vertical-align: top;\n",
       "    }\n",
       "\n",
       "    .dataframe thead th {\n",
       "        text-align: right;\n",
       "    }\n",
       "</style>\n",
       "<table border=\"1\" class=\"dataframe\">\n",
       "  <thead>\n",
       "    <tr style=\"text-align: right;\">\n",
       "      <th></th>\n",
       "      <th>hour</th>\n",
       "      <th>cnt</th>\n",
       "      <th>borough</th>\n",
       "    </tr>\n",
       "  </thead>\n",
       "  <tbody>\n",
       "    <tr>\n",
       "      <th>0</th>\n",
       "      <td>0</td>\n",
       "      <td>8923</td>\n",
       "      <td>Bronx</td>\n",
       "    </tr>\n",
       "    <tr>\n",
       "      <th>1</th>\n",
       "      <td>0</td>\n",
       "      <td>118731</td>\n",
       "      <td>Brooklyn</td>\n",
       "    </tr>\n",
       "    <tr>\n",
       "      <th>2</th>\n",
       "      <td>0</td>\n",
       "      <td>414082</td>\n",
       "      <td>Manhattan</td>\n",
       "    </tr>\n",
       "    <tr>\n",
       "      <th>3</th>\n",
       "      <td>0</td>\n",
       "      <td>60003</td>\n",
       "      <td>Queens</td>\n",
       "    </tr>\n",
       "    <tr>\n",
       "      <th>4</th>\n",
       "      <td>0</td>\n",
       "      <td>185</td>\n",
       "      <td>Staten Island</td>\n",
       "    </tr>\n",
       "  </tbody>\n",
       "</table>\n",
       "</div>"
      ],
      "text/plain": [
       "   hour     cnt        borough\n",
       "0     0    8923          Bronx\n",
       "1     0  118731       Brooklyn\n",
       "2     0  414082      Manhattan\n",
       "3     0   60003         Queens\n",
       "4     0     185  Staten Island"
      ]
     },
     "execution_count": 5,
     "metadata": {},
     "output_type": "execute_result"
    }
   ],
   "source": [
    "from sqlalchemy import select, func\n",
    "stmt = (select([Uber.hour, \n",
    "               func.count(Uber.hour).label('cnt'),\n",
    "               Uber.borough])\n",
    "        .group_by(Uber.hour,Uber.borough))\n",
    "cnts = pd.read_sql_query(stmt, con=engine2)\n",
    "cnts.head()"
   ]
  },
  {
   "cell_type": "code",
   "execution_count": 11,
   "metadata": {},
   "outputs": [
    {
     "data": {
      "text/html": [
       "<div>\n",
       "<style scoped>\n",
       "    .dataframe tbody tr th:only-of-type {\n",
       "        vertical-align: middle;\n",
       "    }\n",
       "\n",
       "    .dataframe tbody tr th {\n",
       "        vertical-align: top;\n",
       "    }\n",
       "\n",
       "    .dataframe thead th {\n",
       "        text-align: right;\n",
       "    }\n",
       "</style>\n",
       "<table border=\"1\" class=\"dataframe\">\n",
       "  <thead>\n",
       "    <tr style=\"text-align: right;\">\n",
       "      <th></th>\n",
       "      <th>hour</th>\n",
       "      <th>cnt</th>\n",
       "      <th>borough</th>\n",
       "      <th>total</th>\n",
       "      <th>proportion</th>\n",
       "    </tr>\n",
       "  </thead>\n",
       "  <tbody>\n",
       "    <tr>\n",
       "      <th>0</th>\n",
       "      <td>0</td>\n",
       "      <td>8923</td>\n",
       "      <td>Bronx</td>\n",
       "      <td>220146</td>\n",
       "      <td>0.040532</td>\n",
       "    </tr>\n",
       "    <tr>\n",
       "      <th>6</th>\n",
       "      <td>1</td>\n",
       "      <td>6446</td>\n",
       "      <td>Bronx</td>\n",
       "      <td>220146</td>\n",
       "      <td>0.029281</td>\n",
       "    </tr>\n",
       "    <tr>\n",
       "      <th>13</th>\n",
       "      <td>2</td>\n",
       "      <td>4811</td>\n",
       "      <td>Bronx</td>\n",
       "      <td>220146</td>\n",
       "      <td>0.021854</td>\n",
       "    </tr>\n",
       "    <tr>\n",
       "      <th>19</th>\n",
       "      <td>3</td>\n",
       "      <td>3969</td>\n",
       "      <td>Bronx</td>\n",
       "      <td>220146</td>\n",
       "      <td>0.018029</td>\n",
       "    </tr>\n",
       "    <tr>\n",
       "      <th>25</th>\n",
       "      <td>4</td>\n",
       "      <td>3731</td>\n",
       "      <td>Bronx</td>\n",
       "      <td>220146</td>\n",
       "      <td>0.016948</td>\n",
       "    </tr>\n",
       "  </tbody>\n",
       "</table>\n",
       "</div>"
      ],
      "text/plain": [
       "    hour   cnt borough   total  proportion\n",
       "0      0  8923   Bronx  220146    0.040532\n",
       "6      1  6446   Bronx  220146    0.029281\n",
       "13     2  4811   Bronx  220146    0.021854\n",
       "19     3  3969   Bronx  220146    0.018029\n",
       "25     4  3731   Bronx  220146    0.016948"
      ]
     },
     "execution_count": 11,
     "metadata": {},
     "output_type": "execute_result"
    }
   ],
   "source": [
    "cnts2 = (cnts >> \n",
    "         group_by(X.borough) >>\n",
    "         mutate(total = X.cnt.sum()) >>\n",
    "         mutate(proportion = X.cnt/X.total))\n",
    "cnts2.head()"
   ]
  },
  {
   "cell_type": "code",
   "execution_count": 15,
   "metadata": {},
   "outputs": [
    {
     "data": {
      "image/png": "[encoded data removed]",
      "text/plain": [
       "<Figure size 2520x360 with 7 Axes>"
      ]
     },
     "metadata": {
      "needs_background": "light"
     },
     "output_type": "display_data"
    }
   ],
   "source": [
    "import seaborn as sns\n",
    "%matplotlib inline\n",
    "import matplotlib.pylab as plt\n",
    "ax = (sns\n",
    "      .catplot(x=\"hour\", \n",
    "               y = 'proportion',\n",
    "               col = 'borough',\n",
    "               kind=\"bar\", \n",
    "               palette=\"ch:.25\", \n",
    "               data=cnts2))\n",
    "\n",
    "(ax.set_axis_labels(\"\", \"Num of Pick-ups\")\n",
    "   .set_titles(\"{col_name} {col_var}\"))\n",
    "\n",
    "plt.tight_layout()\n",
    "plt.show()\n"
   ]
  }
 ],
 "metadata": {
  "kernelspec": {
   "display_name": "Python 3",
   "language": "python",
   "name": "python3"
  },
  "language_info": {
   "codemirror_mode": {
    "name": "ipython",
    "version": 3
   },
   "file_extension": ".py",
   "mimetype": "text/x-python",
   "name": "python",
   "nbconvert_exporter": "python",
   "pygments_lexer": "ipython3",
   "version": "3.7.0"
  },
  "varInspector": {
   "cols": {
    "lenName": 16,
    "lenType": 16,
    "lenVar": 40
   },
   "kernels_config": {
    "python": {
     "delete_cmd_postfix": "",
     "delete_cmd_prefix": "del ",
     "library": "var_list.py",
     "varRefreshCmd": "print(var_dic_list())"
    },
    "r": {
     "delete_cmd_postfix": ") ",
     "delete_cmd_prefix": "rm(",
     "library": "var_list.r",
     "varRefreshCmd": "cat(var_dic_list()) "
    }
   },
   "types_to_exclude": [
    "module",
    "function",
    "builtin_function_or_method",
    "instance",
    "_Feature"
   ],
   "window_display": false
  }
 },
 "nbformat": 4,
 "nbformat_minor": 2
}
