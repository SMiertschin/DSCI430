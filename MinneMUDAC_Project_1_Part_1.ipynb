{
 "cells": [
  {
   "cell_type": "markdown",
   "metadata": {},
   "source": [
    "# MinneMUDAC Project 1 Part 1"
   ]
  },
  {
   "cell_type": "code",
   "execution_count": 56,
   "metadata": {},
   "outputs": [],
   "source": [
    "import pandas as pd\n",
    "import datetime\n",
    "from toolz import first\n",
    "from dfply import *"
   ]
  },
  {
   "cell_type": "markdown",
   "metadata": {},
   "source": [
    "### Reading in one dataset to make sure it works"
   ]
  },
  {
   "cell_type": "code",
   "execution_count": 2,
   "metadata": {},
   "outputs": [
    {
     "data": {
      "text/plain": [
       "Index(['ACRES_DEED', 'ACRES_POLY', 'AGPRE_ENRD', 'AGPRE_EXPD', 'AG_PRESERV',\n",
       "       'BASEMENT', 'BLDG_NUM', 'BLOCK', 'CITY', 'CITY_USPS', 'COOLING',\n",
       "       'COUNTY_ID', 'DWELL_TYPE', 'EMV_BLDG', 'EMV_LAND', 'EMV_TOTAL',\n",
       "       'FIN_SQ_FT', 'GARAGE', 'GARAGESQFT', 'GREEN_ACRE', 'HEATING',\n",
       "       'HOMESTEAD', 'HOME_STYLE', 'LANDMARK', 'LOT', 'MULTI_USES', 'NUM_UNITS',\n",
       "       'OPEN_SPACE', 'OWNER_MORE', 'OWNER_NAME', 'OWN_ADD_L1', 'OWN_ADD_L2',\n",
       "       'OWN_ADD_L3', 'OWN_NAME', 'PARC_CODE', 'PIN', 'PIN_1', 'PLAT_NAME',\n",
       "       'PREFIXTYPE', 'PREFIX_DIR', 'SALE_DATE', 'SALE_VALUE', 'SCHOOL_DST',\n",
       "       'SPEC_ASSES', 'STREET', 'STREETNAME', 'STREETTYPE', 'STRUC_TYPE',\n",
       "       'SUFFIX_DIR', 'Shape_Area', 'Shape_Leng', 'TAX_ADD_L1', 'TAX_ADD_L2',\n",
       "       'TAX_ADD_L3', 'TAX_ADD_LI', 'TAX_CAPAC', 'TAX_EXEMPT', 'TAX_NAME',\n",
       "       'TOTAL_TAX', 'UNIT_INFO', 'USE1_DESC', 'USE2_DESC', 'USE3_DESC',\n",
       "       'USE4_DESC', 'WSHD_DIST', 'XUSE1_DESC', 'XUSE2_DESC', 'XUSE3_DESC',\n",
       "       'XUSE4_DESC', 'YEAR_BUILT', 'Year', 'ZIP', 'ZIP4', 'centroid_lat',\n",
       "       'centroid_long'],\n",
       "      dtype='object')"
      ]
     },
     "execution_count": 2,
     "metadata": {},
     "output_type": "execute_result"
    }
   ],
   "source": [
    "metro_02 = pd.read_csv(\"../MinneMUDAC_raw_files/2002_metro_tax_parcels.txt\",chunksize=500,sep=\"|\")\n",
    "first(metro_02).columns"
   ]
  },
  {
   "cell_type": "markdown",
   "metadata": {},
   "source": [
    "### Creating string pattern to create list of file names"
   ]
  },
  {
   "cell_type": "code",
   "execution_count": 25,
   "metadata": {},
   "outputs": [],
   "source": [
    "def output_address(dt):\n",
    "    fmt = \"../MinneMUDAC_raw_files/20%y_metro_tax_parcels.txt\"\n",
    "    return dt.strftime(fmt)"
   ]
  },
  {
   "cell_type": "code",
   "execution_count": 26,
   "metadata": {},
   "outputs": [
    {
     "data": {
      "text/plain": [
       "[datetime.datetime(2004, 1, 1, 0, 0), datetime.datetime(2005, 1, 1, 0, 0)]"
      ]
     },
     "execution_count": 26,
     "metadata": {},
     "output_type": "execute_result"
    }
   ],
   "source": [
    "dts = [datetime.datetime(y,1,1) for y in range(2004, 2016)]\n",
    "dts[:2]"
   ]
  },
  {
   "cell_type": "code",
   "execution_count": 27,
   "metadata": {},
   "outputs": [
    {
     "data": {
      "text/plain": [
       "['../MinneMUDAC_raw_files/2004_metro_tax_parcels.txt',\n",
       " '../MinneMUDAC_raw_files/2005_metro_tax_parcels.txt']"
      ]
     },
     "execution_count": 27,
     "metadata": {},
     "output_type": "execute_result"
    }
   ],
   "source": [
    "file_names = [output_address(year) for year in dts]\n",
    "file_names[:2]"
   ]
  },
  {
   "cell_type": "markdown",
   "metadata": {},
   "source": [
    "### Reading in all the datasets"
   ]
  },
  {
   "cell_type": "code",
   "execution_count": 28,
   "metadata": {},
   "outputs": [],
   "source": [
    "dfs = [pd.read_csv(file,chunksize=500,sep='|') for file in file_names]"
   ]
  },
  {
   "cell_type": "markdown",
   "metadata": {},
   "source": [
    "### Pulling off the first chunks "
   ]
  },
  {
   "cell_type": "code",
   "execution_count": 29,
   "metadata": {},
   "outputs": [],
   "source": [
    "first_chunks = [first(df) for df in dfs]"
   ]
  },
  {
   "cell_type": "markdown",
   "metadata": {},
   "source": [
    "### Creating a set of column names"
   ]
  },
  {
   "cell_type": "code",
   "execution_count": 30,
   "metadata": {},
   "outputs": [],
   "source": [
    "col_names = [set(df.columns) for df in first_chunks]"
   ]
  },
  {
   "cell_type": "markdown",
   "metadata": {},
   "source": [
    "### Unioning all the sets of column names"
   ]
  },
  {
   "cell_type": "code",
   "execution_count": 31,
   "metadata": {},
   "outputs": [
    {
     "data": {
      "text/plain": [
       "77"
      ]
     },
     "execution_count": 31,
     "metadata": {},
     "output_type": "execute_result"
    }
   ],
   "source": [
    "union_names = set([])\n",
    "for i in col_names:\n",
    "    union_names=union_names.union(i)\n",
    "len(union_names)"
   ]
  },
  {
   "cell_type": "markdown",
   "metadata": {},
   "source": [
    "### Intersecting all the sets of column names"
   ]
  },
  {
   "cell_type": "code",
   "execution_count": 32,
   "metadata": {},
   "outputs": [
    {
     "data": {
      "text/plain": [
       "70"
      ]
     },
     "execution_count": 32,
     "metadata": {},
     "output_type": "execute_result"
    }
   ],
   "source": [
    "intersect_names = col_names[1]\n",
    "\n",
    "for i in col_names[2:]:\n",
    "    intersect_names = intersect_names.intersection(i)\n",
    "len(intersect_names)"
   ]
  },
  {
   "cell_type": "code",
   "execution_count": 33,
   "metadata": {},
   "outputs": [
    {
     "data": {
      "text/plain": [
       "[71, 70, 70, 72, 72, 72, 71, 70, 70, 70, 74, 70]"
      ]
     },
     "execution_count": 33,
     "metadata": {},
     "output_type": "execute_result"
    }
   ],
   "source": [
    "[len(col) for col in col_names]"
   ]
  },
  {
   "cell_type": "markdown",
   "metadata": {},
   "source": [
    "### Differencing the sets of column names\n",
    "\n",
    "#### Each set of column names - the intersection of all column names"
   ]
  },
  {
   "cell_type": "code",
   "execution_count": 34,
   "metadata": {},
   "outputs": [
    {
     "data": {
      "text/plain": [
       "[('../MinneMUDAC_raw_files/2004_metro_tax_parcels.txt', 1),\n",
       " ('../MinneMUDAC_raw_files/2005_metro_tax_parcels.txt', 0),\n",
       " ('../MinneMUDAC_raw_files/2006_metro_tax_parcels.txt', 0),\n",
       " ('../MinneMUDAC_raw_files/2007_metro_tax_parcels.txt', 2),\n",
       " ('../MinneMUDAC_raw_files/2008_metro_tax_parcels.txt', 2),\n",
       " ('../MinneMUDAC_raw_files/2009_metro_tax_parcels.txt', 2),\n",
       " ('../MinneMUDAC_raw_files/2010_metro_tax_parcels.txt', 1),\n",
       " ('../MinneMUDAC_raw_files/2011_metro_tax_parcels.txt', 0),\n",
       " ('../MinneMUDAC_raw_files/2012_metro_tax_parcels.txt', 0),\n",
       " ('../MinneMUDAC_raw_files/2013_metro_tax_parcels.txt', 0),\n",
       " ('../MinneMUDAC_raw_files/2014_metro_tax_parcels.txt', 4),\n",
       " ('../MinneMUDAC_raw_files/2015_metro_tax_parcels.txt', 0)]"
      ]
     },
     "execution_count": 34,
     "metadata": {},
     "output_type": "execute_result"
    }
   ],
   "source": [
    "[(file_name,len(col_name.difference(intersect_names))) for file_name,col_name in zip(file_names,col_names)]"
   ]
  },
  {
   "cell_type": "code",
   "execution_count": 35,
   "metadata": {},
   "outputs": [
    {
     "data": {
      "text/plain": [
       "{'ACRES_DEED',\n",
       " 'ACRES_POLY',\n",
       " 'AGPRE_ENRD',\n",
       " 'AGPRE_EXPD',\n",
       " 'AG_PRESERV',\n",
       " 'BASEMENT',\n",
       " 'BLDG_NUM',\n",
       " 'BLOCK',\n",
       " 'CITY',\n",
       " 'CITY_USPS',\n",
       " 'COOLING',\n",
       " 'COUNTY_ID',\n",
       " 'DWELL_TYPE',\n",
       " 'EMV_BLDG',\n",
       " 'EMV_LAND',\n",
       " 'EMV_TOTAL',\n",
       " 'FIN_SQ_FT',\n",
       " 'GARAGE',\n",
       " 'GARAGESQFT',\n",
       " 'GREEN_ACRE',\n",
       " 'HEATING',\n",
       " 'HOMESTEAD',\n",
       " 'HOME_STYLE',\n",
       " 'LANDMARK',\n",
       " 'LOT',\n",
       " 'MULTI_USES',\n",
       " 'NUM_UNITS',\n",
       " 'OPEN_SPACE',\n",
       " 'OWNER_MORE',\n",
       " 'OWNER_NAME',\n",
       " 'OWN_ADD_L1',\n",
       " 'OWN_ADD_L2',\n",
       " 'OWN_ADD_L3',\n",
       " 'PARC_CODE',\n",
       " 'PIN',\n",
       " 'PLAT_NAME',\n",
       " 'PREFIXTYPE',\n",
       " 'PREFIX_DIR',\n",
       " 'SALE_DATE',\n",
       " 'SALE_VALUE',\n",
       " 'SCHOOL_DST',\n",
       " 'SPEC_ASSES',\n",
       " 'STREETNAME',\n",
       " 'STREETTYPE',\n",
       " 'SUFFIX_DIR',\n",
       " 'Shape_Area',\n",
       " 'Shape_Leng',\n",
       " 'TAX_ADD_L1',\n",
       " 'TAX_ADD_L2',\n",
       " 'TAX_ADD_L3',\n",
       " 'TAX_CAPAC',\n",
       " 'TAX_EXEMPT',\n",
       " 'TAX_NAME',\n",
       " 'TOTAL_TAX',\n",
       " 'UNIT_INFO',\n",
       " 'USE1_DESC',\n",
       " 'USE2_DESC',\n",
       " 'USE3_DESC',\n",
       " 'USE4_DESC',\n",
       " 'WSHD_DIST',\n",
       " 'XUSE1_DESC',\n",
       " 'XUSE2_DESC',\n",
       " 'XUSE3_DESC',\n",
       " 'XUSE4_DESC',\n",
       " 'YEAR_BUILT',\n",
       " 'Year',\n",
       " 'ZIP',\n",
       " 'ZIP4',\n",
       " 'centroid_lat',\n",
       " 'centroid_long'}"
      ]
     },
     "execution_count": 35,
     "metadata": {},
     "output_type": "execute_result"
    }
   ],
   "source": [
    "intersect_names"
   ]
  },
  {
   "cell_type": "code",
   "execution_count": 36,
   "metadata": {},
   "outputs": [],
   "source": [
    "pd.DataFrame(list(intersect_names)).to_csv(\"./data/parcel_common_columns_2004_2014.csv\", index=False)"
   ]
  }
 ],
 "metadata": {
  "kernelspec": {
   "display_name": "Python 3",
   "language": "python",
   "name": "python3"
  },
  "language_info": {
   "codemirror_mode": {
    "name": "ipython",
    "version": 3
   },
   "file_extension": ".py",
   "mimetype": "text/x-python",
   "name": "python",
   "nbconvert_exporter": "python",
   "pygments_lexer": "ipython3",
   "version": "3.7.0"
  }
 },
 "nbformat": 4,
 "nbformat_minor": 2
}
